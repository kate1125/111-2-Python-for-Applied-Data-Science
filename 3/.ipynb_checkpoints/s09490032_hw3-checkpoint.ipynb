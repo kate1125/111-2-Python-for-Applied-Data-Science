{
 "cells": [
  {
   "cell_type": "markdown",
   "metadata": {},
   "source": [
    "## <font color=#0000FF>程式作業三</font>\n",
    "1. **繳交期限為<font color=#FF6600> 2023 / 05 / 10  24:00</font> 以前上傳至 Moodle LMS 教學平台。**\n",
    "2. **上傳作業時，必須完成以下幾件事：**\n",
    "    * **將目前您所看到的此檔案(hw3.ipynb)，改為(<font color=#FF00FF>您的學號</font><font color=#0000FF>_hw3.ipynb</font>)。**\n",
    "    * **建立一個全新的資料夾，將上述作業檔案置入，並將資料夾的名稱改為<font color=#FF00FF>您的學號</font>。**\n",
    "    * **將上述包含作業的資料夾以 <font color=#FF0000>ZIP</font> 格式壓縮後上傳。**\n",
    "\n",
    "3. **<font color=#FF0000>注意事項：所有程式作業應積極相互討論，但不得寫出同一版本或相互抄襲。您所完成繳交的作業是否有抄襲由評分的助教自行判斷，不會找您來確認，因為不會有兩個人會寫出相同的程式！所以強烈建議不要任意將自己已經完成的作業程式碼公開分享給其他同學。</font>**\n",
    "4. **評分依據：**\n",
    "    1. **標頭註解與指令註解完整度    <font color=#0000FF>10%</font>**\n",
    "    2. **程式執行正確性(含)\t   <font color=#0000FF>90%</font>**\n",
    "5. **標頭註解與指令註解的撰寫請參考教學平台上老師提供的範例，至於要使用 Markdown 或 Code comments 的方式來撰寫請自選，程式盡量【逐行】或以【區塊方式】加註解說明，越完整清楚越好。**"
   ]
  },
  {
   "cell_type": "markdown",
   "metadata": {},
   "source": [
    "### <font color=#FF6600>作業內容</font>\n",
    "**在撰寫 Python 程式時，程式設計師會使用 Python 所提供的<font color=#c71585>單行註解</font>與<font color=#c71585>多行註解</font>指令來強化程式的可讀性，如下圖中所示，<font color=##FF0080>原始檔案中有 36 行的程式碼</font>。**<br></br><br></br>\n",
    "<div><img src=\"pics/fig1.png\" width=\"400\"/></div><br></br>\n",
    "\n",
    "**本次作業請你使用正規表示式（Regular Expression）的技巧，設計出適當的 pattern 並運用 re 套件中的方法，將檔案 \"hw3.py\"（如上圖）中所有的註解移除，並刪除這一些註解所佔有的位置與空間，其結果如下圖所示，<font color=##FF0080>只剩下 18 行的程式碼</font>。**<br></br><br></br>\n",
    "<div><img src=\"pics/fig2.png\" width=\"400\"/></div><br></br>\n",
    "\n",
    "**本作業所需注意事項如下：**\n",
    "1. **您必須以開啟文字檔的方式，將 hw3.py 的內容讀入至您的程式之中再依照上述要求完成。**\n",
    "2. **最後處理之後的結果不需要寫入 hw3.py 之中來覆蓋原始檔案的內容，只需在目前的 notebook 中呈現結果即可。**"
   ]
  },
  {
   "cell_type": "code",
   "execution_count": 1,
   "metadata": {},
   "outputs": [],
   "source": [
    "###############################################################################\n",
    "#\n",
    "#  Name : 黃楷茵\n",
    "#\n",
    "#  Class : 資管三\n",
    "#\n",
    "#  SID : S09490032\n",
    "#\n",
    "#  Program Name : s09490032_hw3.ipynb\n",
    "#\n",
    "#  Functions :\n",
    "#               (1). 請使用正規表示式（Regular Expression）的技巧，設計出適當的 pattern 並運用 re 套件中的方法，將檔案 \"hw3.py\"（如上圖）中所有的註解移除，並刪除這一些註解所佔有的位置與空間\n",
    "#\n",
    "#  Homework : No.3\n",
    "#\n",
    "#  Last Modified Date : 2023/05/10\n",
    "#\n",
    "###############################################################################"
   ]
  },
  {
   "cell_type": "code",
   "execution_count": 2,
   "metadata": {},
   "outputs": [
    {
     "name": "stdout",
     "output_type": "stream",
     "text": [
      "x = 10\n",
      "\n",
      "y = 3.14\n",
      "\n",
      "print('\\#')\n",
      "\n",
      "z = \"\"\"This is\n",
      "not a comment,\n",
      "it is a string!\n",
      "\"\"\"\n",
      "print(\"\\nz =\", z)\n",
      "\n",
      "w = '''這不是註解，\n",
      "這是另一個字串！\n",
      "'''\n",
      "print(\"\\nw = \", w)\n",
      "input(\"press enter key to exit...\")\n",
      "\n"
     ]
    }
   ],
   "source": [
    "import re\n",
    "\n",
    "# 讀取 Python 程式檔案\n",
    "with open('hw3.py', 'r', encoding='utf-8') as f:\n",
    "    contents = f.read()\n",
    "\n",
    "# #\\n+  一個 # 配上一至多個換行符號\n",
    "# \\n*#[#\\w\\s]+#\\n*  [#\\w\\s]+ 匹配一至多個 # 或英文字元或空白字元\n",
    "# (?!.*#\\'*\\))\\s*#.*  匹配不包含 #之後的字元直到換行\n",
    "#[\\\"\\']{3,}[\\w\\s]+[\\\"\\']{3,}\\s*  匹配開頭結尾有三個以上 \" 或 ' 的字元\n",
    "pattern = r'#\\n+|\\n+#[\\w\\s#]+#\\n*|(?!.*#\\'*\\))\\s*#.*|[\\\"\\']{3,}[\\w\\s]+[\\\"\\']{3,}\\s*'\n",
    "\n",
    "code_without_comments = re.sub(pattern, \"\", contents)\n",
    "\n",
    "print(code_without_comments)"
   ]
  }
 ],
 "metadata": {
  "kernelspec": {
   "display_name": "Python 3 (ipykernel)",
   "language": "python",
   "name": "python3"
  },
  "language_info": {
   "codemirror_mode": {
    "name": "ipython",
    "version": 3
   },
   "file_extension": ".py",
   "mimetype": "text/x-python",
   "name": "python",
   "nbconvert_exporter": "python",
   "pygments_lexer": "ipython3",
   "version": "3.9.13"
  }
 },
 "nbformat": 4,
 "nbformat_minor": 4
}
