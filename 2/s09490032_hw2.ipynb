{
 "cells": [
  {
   "cell_type": "markdown",
   "metadata": {},
   "source": [
    "## <font color=#0000FF>程式作業二</font>\n",
    "1. **繳交期限為<font color=#FF6600> 2023/04/27 24:00</font> 以前上傳至 Moodle LMS 教學平台。**  \n",
    " <br></br>\n",
    "2. **上傳作業時，必須完成以下幾件事：**\n",
    "    * **將目前您所看到的此檔案(hw2.ipynb)，改為(<font color=#FF00FF>您的學號</font><font color=#0000FF>_hw2.ipynb</font>)。**\n",
    "    * **建立一個全新的資料夾，將上述作業檔案置入，並將資料夾的名稱改為<font color=#FF00FF>您的學號</font>。**\n",
    "    * **將上述包含作業的資料夾以 <font color=#FF0000>ZIP</font> 格式壓縮後上傳。**   \n",
    "    <br></br>\n",
    "3. **注意事項：**\n",
    "    * **<font color=#FF0000>所有程式作業應積極相互討論，但不得寫出同一版本或相互抄襲。您所完成繳交的作業是否有抄襲由評分的助教自行判斷，不會找您來確認，因為不會有兩個人會寫出相同的程式！所以強烈建議不要任意將自己已經完成的作業程式碼公開分享給其他同學。</font>**\n",
    "    * **<font color=#FF0000>本次作業不得使用 Pandas 套件來完成！</font>**   \n",
    "    <br></br>\n",
    "4. **評分依據：**\n",
    "    1. **標頭註解與指令註解完整度    <font color=#0000FF>10%</font>**\n",
    "    2. **程式的輸出入格式與內容 <font color=#0000FF>10%</font>**\n",
    "    3. **程式執行正確性(含)\t   <font color=#0000FF>80%</font>** \n",
    "    4. **P1 至 P18 每一小題 <font color=#0000FF>5</font> 分，第 P19 小題則為 <font color=#0000FF>10</font> 分。**\n",
    "    <br></br>\n",
    "5. **標頭註解與指令註解的撰寫請參考教學平台上老師提供的範例，至於要使用 Markdown 或 Code comments 的方式來撰寫請自選，程式盡量【逐行】或以【區塊方式】加註解說明，越完整清楚越好。**"
   ]
  },
  {
   "cell_type": "markdown",
   "metadata": {},
   "source": [
    "### <font color=#FF6600>作業內容</font>\n"
   ]
  },
  {
   "cell_type": "markdown",
   "metadata": {},
   "source": [
    "### 在 Python 中使用正規表示法（Regular Expression）的處理\n",
    "\n",
    "**本次作業包含 19 個小題（P-1～P-19），請在一個 JupyterNotebook 檔案內將這些小題依題號順序完成。**"
   ]
  },
  {
   "cell_type": "code",
   "execution_count": 1,
   "metadata": {},
   "outputs": [],
   "source": [
    "###############################################################################\n",
    "#\n",
    "#  Name : 黃楷茵\n",
    "#\n",
    "#  Class : 資管三\n",
    "#\n",
    "#  SID : S09490032\n",
    "#\n",
    "#  Program Name : s09490032_hw2.ipynb\n",
    "#\n",
    "#  Functions :\n",
    "#               (1). 作業包含 19 個小題（P-1～P-19），請在一個 JupyterNotebook 檔案內將這些小題依題號順序完成。\n",
    "#\n",
    "#  Homework : No.2\n",
    "#\n",
    "#  Limitations : (1). 本次作業不得使用 Pandas 套件來完成\n",
    "#\n",
    "#  Last Modified Date : 2023/04/23\n",
    "#\n",
    "###############################################################################"
   ]
  },
  {
   "cell_type": "markdown",
   "metadata": {},
   "source": [
    "### <font color=#0000FF>P-1：</font>\n",
    "**請在此撰寫一小段 Python 程式，此程式可讓使用者從鍵盤上輸入任意一個英文字串，且輸入的字串必須包含至少三個（≧ 3）以上的英文單字，單字之間以空格隔開。如輸入少於三個以上的英文單字，程式會要求重新輸入直到正確為止。**"
   ]
  },
  {
   "cell_type": "code",
   "execution_count": 2,
   "metadata": {},
   "outputs": [
    {
     "name": "stdout",
     "output_type": "stream",
     "text": [
      "請輸入至少三個以上的英文單字，單字之間以空格隔開：a\n",
      "輸入不正確，請重新輸入\n",
      "請輸入至少三個以上的英文單字，單字之間以空格隔開：a b c\n",
      "您輸入的英文單字有： a b c\n"
     ]
    }
   ],
   "source": [
    "import re\n",
    "\n",
    "while True:\n",
    "    input_str = input('請輸入至少三個以上的英文單字，單字之間以空格隔開：')  #輸入英文單字\n",
    "\n",
    "    if re.match(r'^[a-zA-Z]+( [a-zA-Z]+){2,}$', input_str):  #^ 表示字串的開始位置。\n",
    "                                                             #[a-zA-Z]+ 表示一個或多個大小寫英文字母。\n",
    "                                                             #( [a-zA-Z]+){2,} 表示一個或多個英文字母加上一個空格的組合，這個組合至少出現兩次，也就是說，整個字串必須至少包含三個以上的單字。\n",
    "                                                             #$表示字串的結束位置。\n",
    "                                                             #input_str要比對的字串。  \n",
    "        print('您輸入的英文單字有：', input_str)\n",
    "        break\n",
    "    else:\n",
    "        print('輸入不正確，請重新輸入') "
   ]
  },
  {
   "cell_type": "markdown",
   "metadata": {},
   "source": [
    "**對上述 P-1 中所輸入合法字串，要求限定使用正規表示式完成以下字串的處理：**"
   ]
  },
  {
   "cell_type": "markdown",
   "metadata": {},
   "source": [
    "### <font color=#0000FF>P-2：</font>\n",
    "**截取字串中每一個字元，並列印在螢幕上。例如輸入的字串為 <font color=#228B22>’This is an apple’</font>，輸出為 <font color=#0000FF>[‘T’, ‘h’, ‘i’, ‘s’, ‘ ‘, ‘i’, ‘s’, ‘ ‘, ‘a’, ‘n’, ‘ ‘, ‘a’, ‘p’, ‘p’, ‘l’, ‘e’]</font>**"
   ]
  },
  {
   "cell_type": "code",
   "execution_count": 3,
   "metadata": {},
   "outputs": [
    {
     "name": "stdout",
     "output_type": "stream",
     "text": [
      "['T', 'h', 'i', 's', ' ', 'i', 's', ' ', 'a', 'n', ' ', 'a', 'p', 'p', 'l', 'e']\n"
     ]
    }
   ],
   "source": [
    "import re\n",
    "input_str = 'This is an apple'  #輸入字串\n",
    "char_list = re.findall(r'\\D', input_str)  #使用正規表達式找出所有字元(\\D=匹配任何的非數字)\n",
    "print(char_list)"
   ]
  },
  {
   "cell_type": "markdown",
   "metadata": {},
   "source": [
    "### <font color=#0000FF>P-3：</font>\n",
    "**同 P-2，但去除空白格字元。例如輸入的字串為 <font color=#228B22>’This is an apple’</font>，輸出為 <font color=#0000FF>[‘T’, ‘h’, ‘i’, ‘s’, ‘i’, ‘s’, ‘a’, ‘n’, ‘a’, ‘p’, ‘p’, ‘l’, ‘e’]</font>**"
   ]
  },
  {
   "cell_type": "code",
   "execution_count": 4,
   "metadata": {},
   "outputs": [
    {
     "name": "stdout",
     "output_type": "stream",
     "text": [
      "['T', 'h', 'i', 's', 'i', 's', 'a', 'n', 'a', 'p', 'p', 'l', 'e']\n"
     ]
    }
   ],
   "source": [
    "import re\n",
    "input_str = 'This is an apple'\n",
    "char_list = re.findall(r'\\S', input_str)  #使用正規表達式找出所有字元(\\S=匹配任何不是空白符的字符)\n",
    "print(char_list)"
   ]
  },
  {
   "cell_type": "markdown",
   "metadata": {},
   "source": [
    "### <font color=#0000FF>P-4：</font>\n",
    "**同 P-3，但只截取字串中每一個單字。例如輸入的字串為 <font color=#228B22>’This is an apple’</font>，輸出為 <font color=#0000FF>[‘This’, ‘is’, ‘an’, ‘apple’]</font>**"
   ]
  },
  {
   "cell_type": "code",
   "execution_count": 5,
   "metadata": {},
   "outputs": [
    {
     "name": "stdout",
     "output_type": "stream",
     "text": [
      "['This', 'is', 'an', 'apple']\n"
     ]
    }
   ],
   "source": [
    "import re\n",
    "input_str = 'This is an apple'\n",
    "char_list = re.findall('\\w+', input_str)  # \\w+ : 表示不限長度的數字、字母和底線字元和連續字元[A-Za-z0-9]\n",
    "print(char_list)"
   ]
  },
  {
   "cell_type": "markdown",
   "metadata": {},
   "source": [
    "### <font color=#0000FF>P-5：</font>\n",
    "**截取字串中的第一個單字。例如輸入的字串為 <font color=#228B22>’This is an apple’</font>，輸出為 <font color=#0000FF>[‘This’]</font>**"
   ]
  },
  {
   "cell_type": "code",
   "execution_count": 6,
   "metadata": {},
   "outputs": [
    {
     "name": "stdout",
     "output_type": "stream",
     "text": [
      "['This']\n"
     ]
    }
   ],
   "source": [
    "import re\n",
    "input_str = 'This is an apple'\n",
    "match_obj = re.match('^\\w+', input_str)   # ^：匹配字串的開頭。\\w+：匹配一個或多個單詞字符，包括字母、數字和底線。  \n",
    "if match_obj:\n",
    "    print([match_obj.group()])  #group()返回正規表示式匹配到的字串"
   ]
  },
  {
   "cell_type": "markdown",
   "metadata": {},
   "source": [
    "### <font color=#0000FF>P-6：</font>\n",
    "**截取字串中的最後一個單字。。例如輸入的字串為 <font color=#228B22>’This is an apple’</font>，輸出為 <font color=#0000FF>[‘apple’]</font>**"
   ]
  },
  {
   "cell_type": "code",
   "execution_count": 7,
   "metadata": {},
   "outputs": [
    {
     "name": "stdout",
     "output_type": "stream",
     "text": [
      "['apple']\n"
     ]
    }
   ],
   "source": [
    "import re\n",
    "input_str = 'This is an apple'\n",
    "match_obj = re.search('\\w+$', input_str)  #正規表示法的末端放置 $ 表示字串必須出現在被搜尋字串的最後位置 \n",
    "if match_obj:\n",
    "    print([match_obj.group()])"
   ]
  },
  {
   "cell_type": "markdown",
   "metadata": {},
   "source": [
    "### <font color=#0000FF>P-7：</font>\n",
    "**截取字串中每一個單字的前二個字元。例如輸入的字串為 <font color=#228B22>’This is an apple’</font>，輸出為 <font color=#0000FF>[‘Th’, ‘is’, ‘an’, ‘ap’]</font>**"
   ]
  },
  {
   "cell_type": "code",
   "execution_count": 8,
   "metadata": {},
   "outputs": [
    {
     "name": "stdout",
     "output_type": "stream",
     "text": [
      "['Th', 'is', 'an', 'ap']\n"
     ]
    }
   ],
   "source": [
    "import re\n",
    "input_str = 'This is an apple'\n",
    "pattern = re.findall(r'\\b\\w{2}', input_str)   #\\b：匹配單詞邊界，可以避免匹配到單詞的一部分。\n",
    "                                              #\\w{2}：匹配兩個單詞字符，包括字母、數字和底線。 \n",
    "print(pattern)"
   ]
  },
  {
   "cell_type": "markdown",
   "metadata": {},
   "source": [
    "### <font color=#0000FF>P-8：</font>\n",
    "**擷取字串中每一個單字的開始是母音（aeiouAEIOU）的字元。例如輸入的字串為 <font color=#228B22>’This is an apple’</font>，輸出為 <font color=#0000FF>[‘is’, ‘an’, ‘apple’]</font>**"
   ]
  },
  {
   "cell_type": "code",
   "execution_count": 9,
   "metadata": {},
   "outputs": [
    {
     "name": "stdout",
     "output_type": "stream",
     "text": [
      "['is', 'an', 'apple']\n"
     ]
    }
   ],
   "source": [
    "import re\n",
    "input_str = 'This is an apple'\n",
    "pattern = re.findall(r'(?i)\\b[aeiou]\\w*\\b', input_str)  #(?i)：設定正規表達式為不區分大小寫模式。\n",
    "                                                        #[aeiou]：匹配母音字元。\n",
    "                                                        #\\w*：匹配零個或多個字母、數字、底線。\n",
    "print(pattern)"
   ]
  },
  {
   "cell_type": "markdown",
   "metadata": {},
   "source": [
    "### <font color=#0000FF>P-9：</font>\n",
    "**擷取字串中的所有奇數順位字元。例如輸入的字串為 <font color=#228B22>’This is an apple’</font>，輸出為 <font color=#0000FF>[‘T’, ‘i’, ‘ ’, ‘s’, ‘a’, ‘ ‘, ‘p‘, ‘l’]</font>**"
   ]
  },
  {
   "cell_type": "code",
   "execution_count": 10,
   "metadata": {},
   "outputs": [
    {
     "name": "stdout",
     "output_type": "stream",
     "text": [
      "['T', 'i', ' ', 's', 'a', ' ', 'p', 'l']\n"
     ]
    }
   ],
   "source": [
    "import re\n",
    "input_str = \"This is an apple\"\n",
    "odd_chars = re.findall(r'.{1}', input_str[0::2])  # '.{1}'，它可以匹配任意一個字元\n",
    "                                                  #找出字串中所有奇數順位的字元\n",
    "print(odd_chars)"
   ]
  },
  {
   "cell_type": "markdown",
   "metadata": {},
   "source": [
    "### <font color=#0000FF>P-10：</font>\n",
    "**擷取字串中的所有偶數順位字元。例如輸入的字串為 <font color=#228B22>’This is an apple’</font>，輸出為 <font color=#0000FF>[‘h’, ‘s’, ‘i’, ‘ ’, ‘n’, ‘a’, ‘p‘, ‘e’]</font>**"
   ]
  },
  {
   "cell_type": "code",
   "execution_count": 11,
   "metadata": {},
   "outputs": [
    {
     "name": "stdout",
     "output_type": "stream",
     "text": [
      "['h', 's', 'i', ' ', 'n', 'a', 'p', 'e']\n"
     ]
    }
   ],
   "source": [
    "import re\n",
    "input_str = \"This is an apple\"\n",
    "odd_chars = re.findall(r'.{1}', input_str[1::2])  # '.{1}'，它可以匹配任意一個字元\n",
    "                                                  #找出字串中所有偶數順位的字元\n",
    "print(odd_chars)"
   ]
  },
  {
   "cell_type": "markdown",
   "metadata": {},
   "source": [
    "### <font color=#0000FF>P-11：</font>\n",
    "**請在此撰寫一小段 Python 程式，此程式可讓使用者從鍵盤上輸入任一英文字串，且輸入的字串必須包含至少三個以上英文的 email 位址，位址之間以空格隔開。如輸入少於三個以上的英文 email 位址，程式會要求重新輸入直到正確為止。**"
   ]
  },
  {
   "cell_type": "code",
   "execution_count": 12,
   "metadata": {},
   "outputs": [
    {
     "name": "stdout",
     "output_type": "stream",
     "text": [
      "請輸入至少三個以上的英文 email 位址，位址之間以空格隔開：s09490032@go.thu.edu.tw\n",
      "輸入不正確，請重新輸入\n",
      "請輸入至少三個以上的英文 email 位址，位址之間以空格隔開：s09490032@go.thu.edu.tw s09490032@go.thu.edu.tw s09490032@go.thu.edu.tw\n",
      "您輸入的英文 email 位址有： s09490032@go.thu.edu.tw, s09490032@go.thu.edu.tw, s09490032@go.thu.edu.tw\n"
     ]
    }
   ],
   "source": [
    "import re\n",
    "\n",
    "while True:\n",
    "    input_str = input('請輸入至少三個以上的英文 email 位址，位址之間以空格隔開：')\n",
    "    email = re.findall(r'[a-zA-Z0-9_.+-]+@[a-zA-Z0-9-]+\\.[a-zA-Z0-9-.]+', input_str)\n",
    "    \n",
    "    if len(email) < 3:  #if判斷使用者是否輸入至少三個email\n",
    "        print('輸入不正確，請重新輸入')\n",
    "        continue\n",
    "    \n",
    "    print('您輸入的英文 email 位址有：', ', '.join(email))\n",
    "    break"
   ]
  },
  {
   "cell_type": "markdown",
   "metadata": {},
   "source": [
    "### <font color=#0000FF>P-12：</font>\n",
    "**依 P-11 的輸入內容，截取字串中每一個 email 位址中的組織名稱。例如輸入的字串為 \n",
    "<a class=\"disabled\"><font color=#228B22>\"s102356@gmail.com, cia@test.gov.us, john_123@winworld.com, first.test@travel.biz\"</font></a>，則輸出為 <font color=#0000FF>[‘@gmail’, ‘@test’, ‘@winworld’, ‘@travel’]</font>**"
   ]
  },
  {
   "cell_type": "code",
   "execution_count": 13,
   "metadata": {},
   "outputs": [
    {
     "name": "stdout",
     "output_type": "stream",
     "text": [
      "['@gmail', '@test', '@winworld', '@travel']\n"
     ]
    }
   ],
   "source": [
    "import re\n",
    "input_str = \"s102356@gmail.com, cia@test.gov.us, john_123@winworld.com, first.test@travel.biz\"\n",
    "pattern = re.findall(r'@[a-zA-Z0-9.-]\\w+', input_str)  #截取字串中每一個 email 位址中的組織名稱\n",
    "print(pattern)"
   ]
  },
  {
   "cell_type": "markdown",
   "metadata": {},
   "source": [
    "### <font color=#0000FF>P-13：</font>\n",
    "**依 P-11 的輸入內容，截取字串中每一個 email 位址中的組織名稱與網域類別。例如輸入的字串為 \n",
    "<a class=\"disabled\"><font color=#228B22>\"s102356@gmail.com, cia@test.gov.us, john_123@winworld.com, first.test@travel.biz\"</font></a>，則輸出為 <font color=#0000FF>[‘@gmail.com’, ‘@test.gov’, ‘@winworld.com’, ‘@travel.biz’]</font>**"
   ]
  },
  {
   "cell_type": "code",
   "execution_count": 14,
   "metadata": {},
   "outputs": [
    {
     "name": "stdout",
     "output_type": "stream",
     "text": [
      "['@gmail.com', '@test.gov', '@winworld.com', '@travel.biz']\n"
     ]
    }
   ],
   "source": [
    "import re\n",
    "input_str = \"s102356@gmail.com, cia@test.gov.us, john_123@winworld.com, first.test@travel.biz\"\n",
    "pattern = re.findall(r'@[a-zA-Z0-9]+\\.[a-zA-Z]{2,}', input_str)  #截取字串中每一個 email 位址中的組織名稱與網域類別\n",
    "print(pattern)"
   ]
  },
  {
   "cell_type": "markdown",
   "metadata": {},
   "source": [
    "### <font color=#0000FF>P-14：</font>\n",
    "**依 P-11 的輸入內容，截取字串中每一個 email 位址中的網域類別名稱。例如輸入的字串為 \n",
    "<a class=\"disabled\"><font color=#228B22>\"s102356@gmail.com, cia@test.gov.us, john_123@winworld.com, first.test@travel.biz\"</font></a>，則輸出為 <font color=#0000FF>[‘com’, ‘gov’, ‘com’, ‘biz’]</font>**"
   ]
  },
  {
   "cell_type": "code",
   "execution_count": 15,
   "metadata": {},
   "outputs": [
    {
     "name": "stdout",
     "output_type": "stream",
     "text": [
      "['com', 'gov', 'com', 'biz']\n"
     ]
    }
   ],
   "source": [
    "import re\n",
    "input_str = \"s102356@gmail.com, cia@test.gov.us, john_123@winworld.com, first.test@travel.biz\"\n",
    "pattern = re.findall(r'@(\\w+\\.\\w+)', input_str)  #截取字串中每一個 email 位址中的網域類別名稱\n",
    "pattern_2 = [match.split('.')[-1] for match in pattern]\n",
    "print(pattern_2)"
   ]
  },
  {
   "cell_type": "markdown",
   "metadata": {},
   "source": [
    "### <font color=#0000FF>P-15：</font>\n",
    "**依 P-11 的輸入內容，截取字串中每一個 email 位址中的使用者名稱或 ID。例如輸入的字串為 \n",
    "<a class=\"disabled\"><font color=#228B22>\"s102356@gmail.com, cia@test.gov.us, john_123@winworld.com, first.test@travel.biz\"</font></a>，則輸出為 <font color=#0000FF>[‘s102356’, ‘cia’, ‘john_123’, ‘first.test’]</font>**"
   ]
  },
  {
   "cell_type": "code",
   "execution_count": 16,
   "metadata": {},
   "outputs": [
    {
     "name": "stdout",
     "output_type": "stream",
     "text": [
      "['s102356', 'cia', 'john_123', 'test']\n"
     ]
    }
   ],
   "source": [
    "import re\n",
    "input_str = \"s102356@gmail.com, cia@test.gov.us, john_123@winworld.com, first.test@travel.biz\"\n",
    "pattern = re.findall(r'\\w+(?=@)', input_str)  # \\w+(?=@)，它會匹配所有在 @ 符號之前的字元\n",
    "print(pattern)"
   ]
  },
  {
   "cell_type": "markdown",
   "metadata": {},
   "source": [
    "### <font color=#0000FF>P-16：</font>\n",
    "**請在此撰寫一小段 Python 程式，此程式可讓使用者從鍵盤上輸入任一長度的字串，且輸入的字串中可以包含任意個數（≧ 0）的以 MM-DD-YYYY 格式撰寫的日期資訊。**"
   ]
  },
  {
   "cell_type": "code",
   "execution_count": 17,
   "metadata": {},
   "outputs": [
    {
     "name": "stdout",
     "output_type": "stream",
     "text": [
      "輸入日期：25-11-2002\n",
      "輸入不正確，請重新輸入\n",
      "輸入日期：11-25-2002\n",
      "您輸入的日期： 11-25-2002\n"
     ]
    }
   ],
   "source": [
    "import re\n",
    "\n",
    "while True:\n",
    "    input_str = input('輸入日期：')\n",
    "\n",
    "    if re.findall(r\"\\b(0?[1-9]|1[0-2])-(0?[1-9]|[12][0-9]|3[01])-\\d{4}\\b\", input_str):  #(0?[1-9]|1[0-2]): 匹配月份，包括 01 到 12 這 12 個數字。0?[1-9] 匹配一位數字的月份，1[0-2] 匹配两位數字的月份。\n",
    "                                                                                        #(0?[1-9]|[12][0-9]|3[01]): 匹配日期，包括 01 到 31 這 31 個數字。0?[1-9] 匹配一位數字的日期，[12][0-9] 匹配二位數字的日期（10 到 29），3[01] 匹配三位數字的日期（30 或 31）。\n",
    "                                                                                        #\\d{4}: 匹配四位數字的年份。\n",
    "        print('您輸入的日期：', input_str)\n",
    "        break\n",
    "    else:\n",
    "        print('輸入不正確，請重新輸入')"
   ]
  },
  {
   "cell_type": "markdown",
   "metadata": {},
   "source": [
    "### <font color=#0000FF>P-17：</font>\n",
    "**截取字串中每一個日期資訊。例如輸入的字串為 \n",
    "<font color=#228B22>‘LIZ 88-1057 12-07-1998, XYZ 56-7893 12-10-2014, ABC 99-0111 05-31-2017’</font>，則輸出為 <font color=#0000FF>[‘12-07-1998’, ‘12-10-2014’, ‘05-31-2017’]</font>**"
   ]
  },
  {
   "cell_type": "code",
   "execution_count": 18,
   "metadata": {},
   "outputs": [
    {
     "name": "stdout",
     "output_type": "stream",
     "text": [
      "['12-07-1998', '12-10-2014', '05-31-2017']\n"
     ]
    }
   ],
   "source": [
    "import re\n",
    "input_str = \"LIZ 88-1057 12-07-1998, XYZ 56-7893 12-10-2014, ABC 99-0111 05-31-2017\"\n",
    "pattern = re.findall(r'\\b\\d{2}-\\d{2}-\\d{4}\\b', input_str)  #\\d{2} 匹配兩個數字，用於月份和日期，因為月份和日期都是兩位數。\n",
    "                                                           #\\d{4} 匹配四個數字，用於年份，因為年份是四位數。\n",
    "\n",
    "print(pattern)"
   ]
  },
  {
   "cell_type": "markdown",
   "metadata": {},
   "source": [
    "### <font color=#0000FF>P-18：</font>\n",
    "**截取字串中每一個日期資訊中的年份。如 P-17 中的輸出為 <font color=#0000FF>[‘1998’, ‘2014’, ‘2017’]</font>**"
   ]
  },
  {
   "cell_type": "code",
   "execution_count": 19,
   "metadata": {},
   "outputs": [
    {
     "name": "stdout",
     "output_type": "stream",
     "text": [
      "['1998', '2014', '2017']\n"
     ]
    }
   ],
   "source": [
    "import re\n",
    "input_str = \"LIZ 88-1057 12-07-1998, XYZ 56-7893 12-10-2014, ABC 99-0111 05-31-2017\"\n",
    "pattern = re.findall(r'\\b(?<=\\b\\d{2}-\\d{2}-)\\d{4}\\b', input_str)  #匹配MM-DD後面的四位數\n",
    "\n",
    "print(pattern)"
   ]
  },
  {
   "cell_type": "markdown",
   "metadata": {},
   "source": [
    "### <font color=#0000FF>P-19：</font>\n",
    "**一網頁上表格相關的原始碼內容如下**"
   ]
  },
  {
   "cell_type": "raw",
   "metadata": {},
   "source": [
    "<html>\n",
    "<body>\n",
    "<table border=\"1\">\n",
    "<tr align=\"center\"><td>1</td> <td>Wang</td> <td>Wei-Gung</td></tr>\n",
    "<tr align=\\\"center\\\"><td>2</td> <td>Lee</td> <td>An</td></tr>\n",
    "<tr align=\\\"center\\\"><td>3</td> <td>Chen</td> <td>Da-Yin</td></tr>\n",
    "<tr align=\\\"center\\\"><td>4</td> <td>Chang</td> <td>LiWha</td></tr>\n",
    "<tr align=\\\"center\\\"><td>5</td> <td>Yu</td> <td>Francis</td></tr>\n",
    "<tr align=\\\"center\\\"><td>6</td> <td>Shiu</td> <td>Chih-Yun</td></tr>\n",
    "<tr align=\\\"center\\\"><td>7</td> <td>Tan</td> <td>Hsin-Yi</td></tr>\n",
    "</table>\n",
    "</body>\n",
    "</html>"
   ]
  },
  {
   "cell_type": "markdown",
   "metadata": {},
   "source": [
    "**請依照上面呈現的網頁字串內容，截取表格中每一個人的姓與名，其輸出結果如下<br>\n",
    " <font color=#0000FF>[ ('Wang', 'Wei-Gung'), ('Lee', 'An'), ('Chen', 'Da-Yin'), ('Chang', 'LiWha'), ('Yu', 'Francis'), ('Shiu', 'Chih-Yun') ]</font>**\n"
   ]
  },
  {
   "cell_type": "code",
   "execution_count": 20,
   "metadata": {},
   "outputs": [
    {
     "name": "stdout",
     "output_type": "stream",
     "text": [
      "[('Wang', 'Wei-Gung'), ('Lee', 'An'), ('Chen', 'Da-Yin'), ('Chang', 'LiWha'), ('Yu', 'Francis'), ('Shiu', 'Chih-Yun'), ('Tan', 'Hsin-Yi')]\n"
     ]
    }
   ],
   "source": [
    "import re\n",
    "\n",
    "html = '''\n",
    "<html>\n",
    "<body>\n",
    "<table border=\"1\">\n",
    "<tr align=\"center\"><td>1</td> <td>Wang</td> <td>Wei-Gung</td></tr>\n",
    "<tr align=\"center\"><td>2</td> <td>Lee</td> <td>An</td></tr>\n",
    "<tr align=\"center\"><td>3</td> <td>Chen</td> <td>Da-Yin</td></tr>\n",
    "<tr align=\"center\"><td>4</td> <td>Chang</td> <td>LiWha</td></tr>\n",
    "<tr align=\"center\"><td>5</td> <td>Yu</td> <td>Francis</td></tr>\n",
    "<tr align=\"center\"><td>6</td> <td>Shiu</td> <td>Chih-Yun</td></tr>\n",
    "<tr align=\"center\"><td>7</td> <td>Tan</td> <td>Hsin-Yi</td></tr>\n",
    "</table>\n",
    "</body>\n",
    "</html>\n",
    "'''\n",
    "\n",
    "pattern = r'<tr align=\"center\"><td>\\d+</td> <td>(\\w+)</td> <td>(\\w+[-\\w]*)</td></tr>'  #截取表格中每一個人的姓與名\n",
    "matches = re.findall(pattern, html)\n",
    "\n",
    "print(matches)"
   ]
  },
  {
   "cell_type": "code",
   "execution_count": null,
   "metadata": {},
   "outputs": [],
   "source": []
  }
 ],
 "metadata": {
  "kernelspec": {
   "display_name": "Python 3 (ipykernel)",
   "language": "python",
   "name": "python3"
  },
  "language_info": {
   "codemirror_mode": {
    "name": "ipython",
    "version": 3
   },
   "file_extension": ".py",
   "mimetype": "text/x-python",
   "name": "python",
   "nbconvert_exporter": "python",
   "pygments_lexer": "ipython3",
   "version": "3.9.13"
  }
 },
 "nbformat": 4,
 "nbformat_minor": 2
}
