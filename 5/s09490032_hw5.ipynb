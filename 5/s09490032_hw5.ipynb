{
 "cells": [
  {
   "cell_type": "markdown",
   "metadata": {},
   "source": [
    "## <font color=#0000FF>程式作業五</font>\n",
    "1. **繳交期限為<font color=#FF6600> 2023/06/04 24:00</font> 以前上傳至 Moodle LMS 教學平台。**\n",
    "2. **上傳作業時，必須完成以下幾件事：**\n",
    "    * **將目前您所看到的此檔案(hw5.ipynb)，改為(<font color=#FF00FF>您的學號</font><font color=#0000FF>_hw5.ipynb</font>)。**\n",
    "    * **建立一個全新的資料夾，將上述作業檔案置入，並將資料夾的名稱改為<font color=#FF00FF>您的學號</font>。**\n",
    "    * **將上述包含作業的資料夾以 <font color=#FF0000>ZIP</font> 格式壓縮後上傳。**\n",
    "\n",
    "3. **<font color=#FF0000>注意事項：所有程式作業應積極相互討論，但不得寫出同一版本或相互抄襲。您所完成繳交的作業是否有抄襲由評分的助教自行判斷，不會找您來確認，因為不會有兩個人會寫出相同的程式！所以強烈建議不要任意將自己已經完成的作業程式碼公開分享給其他同學。</font>**\n",
    "4. **評分依據：**\n",
    "    1. **標頭註解與指令註解完整度    <font color=#0000FF>10%</font>**\n",
    "    1. **程式執行正確性(含)\t   <font color=#0000FF>90%</font>**\n",
    "5. **標頭註解與指令註解的撰寫請參考教學平台上老師提供的範例，至於要使用 Markdown 或 Code comments 的方式來撰寫請自選，程式盡量【逐行】或以【區塊方式】加註解說明，越完整清楚越好。**"
   ]
  },
  {
   "cell_type": "markdown",
   "metadata": {},
   "source": [
    "### <font color=#FF6600>作業內容</font>\n",
    "\n",
    "1. **本次作業限用 NumPy 指令語法。**\n",
    "1. **作業必須在 Jupyter Notebook 上完成。**\n",
    "1. **本次作業包含二個大題，請依序將每一個大題中的作業要求寫在指定的 cell 內。**"
   ]
  },
  {
   "cell_type": "code",
   "execution_count": null,
   "metadata": {},
   "outputs": [],
   "source": [
    "###############################################################################\n",
    "#\n",
    "#  Name : 黃楷茵\n",
    "#\n",
    "#  Class : 資管三\n",
    "#\n",
    "#  SID : S09490032\n",
    "#\n",
    "#  Program Name : s09490032_hw5.ipynb\n",
    "#\n",
    "#  Functions :\n",
    "#               (1). 以 NumPy 內建工具來產生 60 個介於 -50 到 +99 之間的亂數整數，每一個整數大小為 64 位元。\n",
    "#                    將這 60 個整數任意放入一個 6X10 的陣列中，以每一列(row)為單位，分別計算並輸出以下需求，\n",
    "#                    其數值顯示於螢幕時需四捨五入制小數點後兩位數，遇缺補零(例：15.4 須表示成 15.40)。\n",
    "#                    - 產生此矩陣並列印結果(請參考如何使用 numpy 中的 random())\n",
    "#                    - 顯示此矩陣每一列(row)資料集的型態(請參考如何使用 numpy 中的 apply_along_axis())\n",
    "#                    - 計算並顯示每一列(row)資料集的平均數(請參考如何使用 numpy 中的 mean(), around())\n",
    "#                    - 計算並顯示每一列(row)資料集的中位數(請參考如何使用 numpy 中的 median(), around())\n",
    "#                    - 計算並顯示每一列(row)資料集的標準差(請參考如何使用 numpy 中的 std(), around())\n",
    "#                    - 計算並顯示每一列(row)資料集的變異數(請參考如何使用 numpy 中的 var(), around())\n",
    "#                    - 計算並顯示每一列(row)資料集的集差值，即每列中最大值與最小值之間的差距(請參考如何使用 numpy 中的 ptp())\n",
    "#\n",
    "#               (2). 以 NumPy 內建工具來產生一個 3X4 的陣列 A，以及一個 4X5 的陣列 B，\n",
    "#                    每一個陣列的元素為介於 1 到 50 之間的亂數整數，以及每一個整數大小限定為 32 位元。\n",
    "#                    請完成以下的需求：\n",
    "#                    - 產生矩陣 A 與 B (請參考如何使用 numpy 中的 random())\n",
    "#                    - 分別列印矩陣 A 與 B 的資料內容\n",
    "#                    - 找出並顯示矩陣 A 中每一列(row)的最大值(請參考如何使用 numpy 中的 amax())\n",
    "#                    - 找出並顯示矩陣 A 中第二列(2nd row)中所有小於 30 的數值(請參考如何使用 numpy 中的 where())\n",
    "#                    - 找出並顯示矩陣 B 中每一行或欄(column)中的最大值(請參考如何使用 numpy 中的 amax())\n",
    "#                    - 找出並顯示矩陣 B 中第二行(2nd column)中所有小於 30 的數值(請參考如何使用 numpy 中的 where())\n",
    "#                    - 顯示矩陣 A 中第一列(1st row)和矩陣 B 中第一列(1st row)的聯集結果(請參考如何使用 numpy 中的 union1d())\n",
    "#                    - 計算與輸出矩陣 A 與矩陣 B 相乘的結果(請參考如何使用 numpy 中的 dot())\n",
    "#                    - 將兩個矩陣扁平化後，輸出矩陣 A 與矩陣 B 的交集運算結果(請參考如何使用 numpy 中的 intersect1d()、ravel())\n",
    "#\n",
    "#  Homework : No.5\n",
    "#\n",
    "#  Last Modified Date : 2023/06/01\n",
    "#\n",
    "###############################################################################"
   ]
  },
  {
   "cell_type": "markdown",
   "metadata": {},
   "source": [
    "### <font color=#0000FF>第一題：</font>\n",
    "***\n",
    "**以 NumPy 內建工具來產生 60 個介於 -50 到 +99 之間的亂數整數，每一個整數大小為 64 位元。將這 60 個整數任意放入一個 6X10 的陣列中，以每一列(row)為單位，分別計算並輸出以下需求，其數值顯示於螢幕時需四捨五入制小數點後兩位數，遇缺補零(例：15.4 須表示成 15.40)，其詳細細節請參考 numpy 中的 set_printoptions()：**\n",
    "1. **產生此矩陣並列印結果(請參考如何使用 numpy 中的 random())**\n",
    "1. **顯示此矩陣每一列(row)資料集的型態(請參考如何使用 numpy 中的 apply_along_axis())**\n",
    "1. **計算並顯示每一列(row)資料集的平均數(請參考如何使用 numpy 中的 mean(), around())**\n",
    "1. **計算並顯示每一列(row)資料集的中位數(請參考如何使用 numpy 中的 median(), around())**\n",
    "1. **計算並顯示每一列(row)資料集的標準差(請參考如何使用 numpy 中的 std(), around())**\n",
    "1. **計算並顯示每一列(row)資料集的變異數(請參考如何使用 numpy 中的 var(), around())**\n",
    "1. **計算並顯示每一列(row)資料集的集差值，即每列中最大值與最小值之間的差距(請參考如何使用 numpy 中的 ptp())**\n",
    "\n",
    "#### <font color=#FF0000>※ 以上每一個子題限定使用 Numpy 提供的方法完成；切記：每題答案如果超過二行指令就是錯的！</font>"
   ]
  },
  {
   "cell_type": "markdown",
   "metadata": {},
   "source": [
    "### 設定以下各小題將結果列印於螢幕上時，必須列印至小數點後二位數，且小數部分遇缺補零"
   ]
  },
  {
   "cell_type": "code",
   "execution_count": 1,
   "metadata": {},
   "outputs": [],
   "source": [
    "#讀入 Numpy 函式庫\n",
    "import numpy as np\n",
    "\n",
    "#precision=2 -> 小數點後的精度為2位\n",
    "#floatmode='fixed' -> 在固定模式下，所有的浮點數將以固定的位數顯示，即使小數部分為零也會顯示\n",
    "np.set_printoptions(precision=2, floatmode='fixed')"
   ]
  },
  {
   "cell_type": "markdown",
   "metadata": {},
   "source": [
    "### 1. 產生矩陣資料並列印其結果"
   ]
  },
  {
   "cell_type": "code",
   "execution_count": 2,
   "metadata": {},
   "outputs": [
    {
     "name": "stdout",
     "output_type": "stream",
     "text": [
      "[[ 18  47 -22  25  -6  61 -11  28  87 -50]\n",
      " [ 77  88  48   7  78  36   3  91   6  74]\n",
      " [ 20 -30  16  88 -33  47  30  72   2 -33]\n",
      " [-14 -31  40  44  40  14  99   9 -45  33]\n",
      " [ 31 -44 -49  79   2  70  -1 -50  68  83]\n",
      " [ 41 -37  79 -35 -36  56  46  35  77 -11]]\n"
     ]
    }
   ],
   "source": [
    "#np.reshape()函式的第一個參數是要被重新塑形的陣列，第二個參數是新的陣列形狀\n",
    "matrix = np.reshape(np.random.randint(-50, 100, size=60, dtype=np.int64), (6, 10))\n",
    "print(matrix)"
   ]
  },
  {
   "cell_type": "markdown",
   "metadata": {},
   "source": [
    "### 2. 顯示此矩陣每一列資料集的型態"
   ]
  },
  {
   "cell_type": "code",
   "execution_count": 3,
   "metadata": {},
   "outputs": [
    {
     "name": "stdout",
     "output_type": "stream",
     "text": [
      "[dtype('int64') dtype('int64') dtype('int64') dtype('int64')\n",
      " dtype('int64') dtype('int64')]\n"
     ]
    }
   ],
   "source": [
    "#匿名函式lambda x: x.dtype，它返回x（即每一列）的資料型態\n",
    "#axis=1指定了要對每一列應用函式 -> np.apply_along_axis()函式將按行遍歷matrix並將每一列作為參數傳遞給匿名函式\n",
    "types = np.apply_along_axis(lambda x: x.dtype, axis=1, arr=matrix)\n",
    "print(types)"
   ]
  },
  {
   "cell_type": "markdown",
   "metadata": {},
   "source": [
    "### 3. 計算並顯示每一列(row)資料集的平均數"
   ]
  },
  {
   "cell_type": "code",
   "execution_count": 4,
   "metadata": {},
   "outputs": [
    {
     "name": "stdout",
     "output_type": "stream",
     "text": [
      "[17.70 50.80 17.90 18.90 18.90 21.50]\n"
     ]
    }
   ],
   "source": [
    "#使用 numpy 中的 mean(), around()\n",
    "means = np.mean(matrix, axis=1)\n",
    "print(np.around(means, decimals=2))"
   ]
  },
  {
   "cell_type": "markdown",
   "metadata": {},
   "source": [
    "### 4. 計算並顯示每一列(row)資料集的中位數"
   ]
  },
  {
   "cell_type": "code",
   "execution_count": 5,
   "metadata": {},
   "outputs": [
    {
     "name": "stdout",
     "output_type": "stream",
     "text": [
      "[21.50 61.00 18.00 23.50 16.50 38.00]\n"
     ]
    }
   ],
   "source": [
    "#使用 numpy 中的 median(), around()\n",
    "medians = np.median(matrix, axis=1)\n",
    "print(np.around(medians, decimals=2))"
   ]
  },
  {
   "cell_type": "markdown",
   "metadata": {},
   "source": [
    "### 5. 計算並顯示每一列(row)資料集的標準差"
   ]
  },
  {
   "cell_type": "code",
   "execution_count": 6,
   "metadata": {},
   "outputs": [
    {
     "name": "stdout",
     "output_type": "stream",
     "text": [
      "[39.04 33.77 40.71 39.89 51.85 44.40]\n"
     ]
    }
   ],
   "source": [
    "#使用 numpy 中的 std(), around()\n",
    "stds = np.std(matrix, axis=1)\n",
    "print(np.around(stds, decimals=2))"
   ]
  },
  {
   "cell_type": "markdown",
   "metadata": {},
   "source": [
    "### 6. 計算並顯示每一列(row)資料集的變異數"
   ]
  },
  {
   "cell_type": "code",
   "execution_count": 7,
   "metadata": {},
   "outputs": [
    {
     "name": "stdout",
     "output_type": "stream",
     "text": [
      "[1524.01 1140.16 1657.09 1591.29 2688.49 1971.65]\n"
     ]
    }
   ],
   "source": [
    "#使用 numpy 中的 var(), around()\n",
    "variances = np.var(matrix, axis=1)\n",
    "print(np.around(variances, decimals=2))"
   ]
  },
  {
   "cell_type": "markdown",
   "metadata": {},
   "source": [
    "### 7. 計算並顯示每一列(row)資料集的集差值"
   ]
  },
  {
   "cell_type": "code",
   "execution_count": 8,
   "metadata": {},
   "outputs": [
    {
     "name": "stdout",
     "output_type": "stream",
     "text": [
      "[137  88 121 144 133 116]\n"
     ]
    }
   ],
   "source": [
    "#使用 numpy 中的 ptp()\n",
    "ptps = np.ptp(matrix, axis=1)\n",
    "print(np.around(ptps, decimals=2))"
   ]
  },
  {
   "cell_type": "markdown",
   "metadata": {},
   "source": [
    "### <font color=#0000FF>第二題：</font>\n",
    "***\n",
    "**以 NumPy 內建工具來產生一個 3X4 的陣列 A，以及一個 4X5 的陣列 B，每一個陣列的元素為介於 1 到 50 之間的亂數整數，以及每一個整數大小限定為 32 位元。請完成以下的需求：**\n",
    "1. **產生矩陣 A 與 B (請參考如何使用 numpy 中的 random())**\n",
    "1. **分別列印矩陣 A 與 B 的資料內容**\n",
    "1. **找出並顯示矩陣 A 中每一列(row)的最大值(請參考如何使用 numpy 中的 amax())**\n",
    "1. **找出並顯示矩陣 A 中第二列(2nd row)中所有小於 30 的數值(請參考如何使用 numpy 中的 where())**\n",
    "1. **找出並顯示矩陣 B 中每一行或欄(column)中的最大值(請參考如何使用 numpy 中的 amax())**\n",
    "1. **找出並顯示矩陣 B 中第二行(2nd column)中所有小於 30 的數值(請參考如何使用 numpy 中的 where())**\n",
    "1. **顯示矩陣 A 中第一列(1st row)和矩陣 B 中第一列(1st row)的聯集結果(請參考如何使用 numpy 中的 union1d())**\n",
    "1. **計算與輸出矩陣 A 與矩陣 B 相乘的結果(請參考如何使用 numpy 中的 dot())**\n",
    "1. **將兩個矩陣扁平化後，輸出矩陣 A 與矩陣 B 的交集運算結果(請參考如何使用 numpy 中的 intersect1d()、ravel())**\n",
    "\n",
    "#### <font color=#FF0000>※ 以上每一個子題限定使用 Numpy 提供的方法完成；切記：每題答案如果超過二行指令就是錯的！</font>"
   ]
  },
  {
   "cell_type": "code",
   "execution_count": 9,
   "metadata": {},
   "outputs": [],
   "source": [
    "#讀入 Numpy 函式庫\n",
    "import numpy as np"
   ]
  },
  {
   "cell_type": "markdown",
   "metadata": {},
   "source": [
    "### 1. 產生矩陣 A 與 B"
   ]
  },
  {
   "cell_type": "code",
   "execution_count": 10,
   "metadata": {},
   "outputs": [],
   "source": [
    "#產生一個 3X4 的陣列 A，以及一個 4X5 的陣列 B，每一個陣列的元素為介於 1 到 50 之間的亂數整數，以及每一個整數大小限定為 32 位元\n",
    "A = np.random.randint(1, 51, size=(3, 4), dtype=np.int32)\n",
    "B = np.random.randint(1, 51, size=(4, 5), dtype=np.int32)"
   ]
  },
  {
   "cell_type": "markdown",
   "metadata": {},
   "source": [
    "### 2. 分別列印矩陣 A 與 B 的資料內容"
   ]
  },
  {
   "cell_type": "code",
   "execution_count": 11,
   "metadata": {},
   "outputs": [
    {
     "name": "stdout",
     "output_type": "stream",
     "text": [
      "矩陣 A:\n",
      " [[17 26  8 33]\n",
      " [13 16  8  2]\n",
      " [21 44 20 13]]\n",
      "矩陣 B:\n",
      " [[ 1 40 19  8 25]\n",
      " [ 1  3 35  1  2]\n",
      " [43 36 46 36 19]\n",
      " [21 22 10 16 35]]\n"
     ]
    }
   ],
   "source": [
    "print(\"矩陣 A:\\n\", A)\n",
    "print(\"矩陣 B:\\n\", B)"
   ]
  },
  {
   "cell_type": "markdown",
   "metadata": {},
   "source": [
    "### 3. 找出並顯示矩陣 A 中每一列(row)的最大值"
   ]
  },
  {
   "cell_type": "code",
   "execution_count": 12,
   "metadata": {},
   "outputs": [
    {
     "name": "stdout",
     "output_type": "stream",
     "text": [
      "[33 16 44]\n"
     ]
    }
   ],
   "source": [
    "#使用 numpy 中的 amax()\n",
    "max_A = np.amax(A, axis=1)\n",
    "print(max_A)"
   ]
  },
  {
   "cell_type": "markdown",
   "metadata": {},
   "source": [
    "### 4. 找出並顯示矩陣 A 中第二列(2nd row)中所有小於 30 的數值"
   ]
  },
  {
   "cell_type": "code",
   "execution_count": 13,
   "metadata": {},
   "outputs": [
    {
     "name": "stdout",
     "output_type": "stream",
     "text": [
      "[13 16  8  2]\n"
     ]
    }
   ],
   "source": [
    "#使用 numpy 中的 where()\n",
    "indices_values_A = A[1][np.where(A[1] < 30)]\n",
    "print(indices_values_A)"
   ]
  },
  {
   "cell_type": "markdown",
   "metadata": {},
   "source": [
    "### 5. 找出並顯示矩陣 B 中每一行或欄(column)中的最大值"
   ]
  },
  {
   "cell_type": "code",
   "execution_count": 14,
   "metadata": {},
   "outputs": [
    {
     "name": "stdout",
     "output_type": "stream",
     "text": [
      "[43 40 46 36 35]\n"
     ]
    }
   ],
   "source": [
    "#使用 numpy 中的 amax()\n",
    "max_B = np.amax(B, axis=0)\n",
    "print(max_B)"
   ]
  },
  {
   "cell_type": "markdown",
   "metadata": {},
   "source": [
    "### 6. 找出並顯示矩陣 B 中第二行(2nd column)中所有小於 30 的數值"
   ]
  },
  {
   "cell_type": "code",
   "execution_count": 15,
   "metadata": {},
   "outputs": [
    {
     "name": "stdout",
     "output_type": "stream",
     "text": [
      "[ 3 22]\n"
     ]
    }
   ],
   "source": [
    "#使用 numpy 中的 where()\n",
    "indices_values_B = B[:, 1][np.where(B[:, 1] < 30)]\n",
    "print(indices_values_B)"
   ]
  },
  {
   "cell_type": "markdown",
   "metadata": {},
   "source": [
    "### 7. 顯示矩陣 A 中第一列(1st row)和矩陣 B 中第一列(1st row)的聯集結果"
   ]
  },
  {
   "cell_type": "code",
   "execution_count": 16,
   "metadata": {},
   "outputs": [
    {
     "name": "stdout",
     "output_type": "stream",
     "text": [
      "[ 1  8 17 19 25 26 33 40]\n"
     ]
    }
   ],
   "source": [
    "#使用 numpy 中的 union1d()\n",
    "union = np.union1d(A[0], B[0])\n",
    "print(union)"
   ]
  },
  {
   "cell_type": "markdown",
   "metadata": {},
   "source": [
    "### 8. 計算與輸出矩陣 A 與矩陣 B 相乘的結果"
   ]
  },
  {
   "cell_type": "code",
   "execution_count": 17,
   "metadata": {},
   "outputs": [
    {
     "name": "stdout",
     "output_type": "stream",
     "text": [
      "[[1080 1772 1931  978 1784]\n",
      " [ 415  900 1195  440  579]\n",
      " [1198 1978 2989 1140 1448]]\n"
     ]
    }
   ],
   "source": [
    "#使用 numpy 中的 dot()\n",
    "multiply = np.dot(A, B)\n",
    "print(multiply)"
   ]
  },
  {
   "cell_type": "markdown",
   "metadata": {},
   "source": [
    "### 9. 將兩個矩陣扁平化後，輸出矩陣 A 與矩陣 B 的交集運算結果"
   ]
  },
  {
   "cell_type": "code",
   "execution_count": 18,
   "metadata": {},
   "outputs": [
    {
     "name": "stdout",
     "output_type": "stream",
     "text": [
      "[ 2  8 16 21]\n"
     ]
    }
   ],
   "source": [
    "#使用 numpy 中的 intersect1d()、ravel()\n",
    "intersection = np.intersect1d(np.ravel(A), np.ravel(B))\n",
    "print(intersection)"
   ]
  }
 ],
 "metadata": {
  "kernelspec": {
   "display_name": "Python 3 (ipykernel)",
   "language": "python",
   "name": "python3"
  },
  "language_info": {
   "codemirror_mode": {
    "name": "ipython",
    "version": 3
   },
   "file_extension": ".py",
   "mimetype": "text/x-python",
   "name": "python",
   "nbconvert_exporter": "python",
   "pygments_lexer": "ipython3",
   "version": "3.9.13"
  }
 },
 "nbformat": 4,
 "nbformat_minor": 2
}
